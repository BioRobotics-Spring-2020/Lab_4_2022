{
 "cells": [
  {
   "cell_type": "code",
   "execution_count": 1,
   "metadata": {
    "inputHidden": true,
    "outputHidden": true
   },
   "outputs": [],
   "source": [
    "from muselsl import stream, view\n",
    "from linux_muse import list_muses\n",
    "import matplotlib \n",
    "matplotlib.use('Agg')\n",
    "import matplotlib.pyplot as plt\n",
    "from multiprocessing import set_start_method, Process\n",
    "from time import sleep\n",
    "#%matplotlib"
   ]
  },
  {
   "cell_type": "code",
   "execution_count": 3,
   "metadata": {
    "inputHidden": false,
    "outputHidden": false
   },
   "outputs": [
    {
     "name": "stdout",
     "output_type": "stream",
     "text": [
      "Found Muse-8798\n"
     ]
    }
   ],
   "source": [
    "muses = list_muses.list_muses()\n"
   ]
  },
  {
   "cell_type": "code",
   "execution_count": 3,
   "metadata": {},
   "outputs": [
    {
     "name": "stdout",
     "output_type": "stream",
     "text": [
      "[{'address': '00:55:da:b0:03:57', 'name': 'Muse-0357'}]\n"
     ]
    }
   ],
   "source": [
    "print(muses)"
   ]
  },
  {
   "cell_type": "code",
   "execution_count": 4,
   "metadata": {},
   "outputs": [
    {
     "name": "stdout",
     "output_type": "stream",
     "text": [
      "Connecting to Muse: 00:55:da:b3:87:98...\n",
      "Connected.\n",
      "Streaming EEG...\n"
     ]
    }
   ],
   "source": [
    "stream_process = Process(target=stream, args=(muses[0]['address'],))\n",
    "stream_process.start()"
   ]
  },
  {
   "cell_type": "markdown",
   "metadata": {},
   "source": [
    "Run the following in your terminal (with your virtualenv activated):"
   ]
  },
  {
   "cell_type": "markdown",
   "metadata": {},
   "source": [
    "`muselsl view --version 2`"
   ]
  }
 ],
 "metadata": {
  "kernel_info": {
   "name": "mne"
  },
  "kernelspec": {
   "display_name": "Python 3",
   "language": "python",
   "name": "python3"
  },
  "language_info": {
   "codemirror_mode": {
    "name": "ipython",
    "version": 3
   },
   "file_extension": ".py",
   "mimetype": "text/x-python",
   "name": "python",
   "nbconvert_exporter": "python",
   "pygments_lexer": "ipython3",
   "version": "3.6.9"
  },
  "nteract": {
   "version": "0.8.4"
  }
 },
 "nbformat": 4,
 "nbformat_minor": 4
}
