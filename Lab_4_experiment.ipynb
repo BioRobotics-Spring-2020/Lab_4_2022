{
 "cells": [
  {
   "cell_type": "markdown",
   "metadata": {},
   "source": [
    "# Running an Experiment\n",
    "Below is code to run an experiment with EEG-Notebooks. The specific experiment we are looking at is the P300 task.\n",
    "\n",
    "Feel free to rename your session and subject numbers\n"
   ]
  },
  {
   "cell_type": "code",
   "execution_count": null,
   "metadata": {},
   "outputs": [],
   "source": [
    "# Imports\n",
    "import os\n",
    "from eegnb import generate_save_fn\n",
    "from eegnb.devices.eeg import EEG\n",
    "from eegnb.experiments.visual_p300 import p300\n",
    "from eegnb.analysis.utils import load_data\n",
    "\n",
    "# Define some variables\n",
    "board_name = 'unicorn'\n",
    "experiment = 'visual_p300'\n",
    "session = 999\n",
    "subject = 999 # a 'very British number'\n",
    "record_duration=120\n",
    "\n",
    "# Initiate EEG device\n",
    "eeg_device = EEG(device=board_name)\n",
    "\n",
    "# Create output filename\n",
    "save_fn = generate_save_fn(board_name, experiment, subject, session)\n",
    "\n",
    "# Run experiment\n",
    "p300.present(duration=record_duration, eeg=eeg_device, save_fn=save_fn)\n",
    "\n",
    "# Display output file path\n",
    "display(save_fn)"
   ]
  },
  {
   "cell_type": "code",
   "execution_count": null,
   "metadata": {},
   "outputs": [],
   "source": []
  }
 ],
 "metadata": {
  "kernelspec": {
   "display_name": "Python 3",
   "language": "python",
   "name": "python3"
  },
  "language_info": {
   "codemirror_mode": {
    "name": "ipython",
    "version": 3
   },
   "file_extension": ".py",
   "mimetype": "text/x-python",
   "name": "python",
   "nbconvert_exporter": "python",
   "pygments_lexer": "ipython3",
   "version": "3.8.5"
  }
 },
 "nbformat": 4,
 "nbformat_minor": 2
}
